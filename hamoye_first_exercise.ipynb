{
 "cells": [
  {
   "cell_type": "code",
   "execution_count": 1,
   "id": "935291e5-af62-45e8-a2a0-46c52093cdf6",
   "metadata": {},
   "outputs": [],
   "source": [
    "import pandas as pd"
   ]
  },
  {
   "cell_type": "code",
   "execution_count": 2,
   "id": "9bdd284f-232a-4f41-b016-5290b8078ffd",
   "metadata": {},
   "outputs": [],
   "source": [
    "csv_file = pd.read_csv(\"https://raw.githubusercontent.com/WalePhenomenon/climate_change/master/fuel_ferc1.csv\")"
   ]
  },
  {
   "cell_type": "code",
   "execution_count": 3,
   "id": "c281fc12-ccbf-4eb0-8019-9f36b8257dca",
   "metadata": {},
   "outputs": [],
   "source": [
    "csv_file.to_csv(\"https://raw.githubusercontent.com/WalePhenomenon/climate_change/master/fuel_ferc1.csv\", index=False)"
   ]
  },
  {
   "cell_type": "code",
   "execution_count": 4,
   "id": "7490416e-33ca-4b7d-8885-1e31e08e2919",
   "metadata": {},
   "outputs": [
    {
     "data": {
      "text/plain": [
       "record_id                         0\n",
       "utility_id_ferc1                  0\n",
       "report_year                       0\n",
       "plant_name_ferc1                  0\n",
       "fuel_type_code_pudl               0\n",
       "fuel_unit                       180\n",
       "fuel_qty_burned                   0\n",
       "fuel_mmbtu_per_unit               0\n",
       "fuel_cost_per_unit_burned         0\n",
       "fuel_cost_per_unit_delivered      0\n",
       "fuel_cost_per_mmbtu               0\n",
       "dtype: int64"
      ]
     },
     "execution_count": 4,
     "metadata": {},
     "output_type": "execute_result"
    }
   ],
   "source": [
    "Which feature has missing values and what is the total number of missing value and percentage of the missing rows as a factor of the total number of rows in three decimal places?\n",
    "\n",
    "csv_file.isnull"
   ]
  },
  {
   "cell_type": "code",
   "execution_count": 6,
   "id": "edf2a7e6-6176-4310-9698-8924992cca6e",
   "metadata": {},
   "outputs": [
    {
     "data": {
      "text/plain": [
       "0        ton\n",
       "1        ton\n",
       "2        ton\n",
       "3        ton\n",
       "4        mcf\n",
       "        ... \n",
       "29518    mcf\n",
       "29519    mcf\n",
       "29520    mcf\n",
       "29521    ton\n",
       "29522    mcf\n",
       "Name: fuel_unit, Length: 29523, dtype: object"
      ]
     },
     "execution_count": 6,
     "metadata": {},
     "output_type": "execute_result"
    }
   ],
   "source": [
    "csv_file[\"fuel_unit\"]"
   ]
  },
  {
   "cell_type": "code",
   "execution_count": 7,
   "id": "1b0f6afe-3585-4f54-853b-4623c93f93d9",
   "metadata": {},
   "outputs": [
    {
     "data": {
      "text/html": [
       "<div>\n",
       "<style scoped>\n",
       "    .dataframe tbody tr th:only-of-type {\n",
       "        vertical-align: middle;\n",
       "    }\n",
       "\n",
       "    .dataframe tbody tr th {\n",
       "        vertical-align: top;\n",
       "    }\n",
       "\n",
       "    .dataframe thead th {\n",
       "        text-align: right;\n",
       "    }\n",
       "</style>\n",
       "<table border=\"1\" class=\"dataframe\">\n",
       "  <thead>\n",
       "    <tr style=\"text-align: right;\">\n",
       "      <th></th>\n",
       "      <th>fuel_type_code_pudl</th>\n",
       "      <th>fuel_cost_per_unit_burned</th>\n",
       "    </tr>\n",
       "  </thead>\n",
       "  <tbody>\n",
       "    <tr>\n",
       "      <th>0</th>\n",
       "      <td>coal</td>\n",
       "      <td>18.59</td>\n",
       "    </tr>\n",
       "    <tr>\n",
       "      <th>1</th>\n",
       "      <td>coal</td>\n",
       "      <td>18.58</td>\n",
       "    </tr>\n",
       "    <tr>\n",
       "      <th>2</th>\n",
       "      <td>coal</td>\n",
       "      <td>39.72</td>\n",
       "    </tr>\n",
       "    <tr>\n",
       "      <th>3</th>\n",
       "      <td>coal</td>\n",
       "      <td>47.21</td>\n",
       "    </tr>\n",
       "    <tr>\n",
       "      <th>4</th>\n",
       "      <td>gas</td>\n",
       "      <td>2.77</td>\n",
       "    </tr>\n",
       "    <tr>\n",
       "      <th>...</th>\n",
       "      <td>...</td>\n",
       "      <td>...</td>\n",
       "    </tr>\n",
       "    <tr>\n",
       "      <th>29518</th>\n",
       "      <td>gas</td>\n",
       "      <td>4.78</td>\n",
       "    </tr>\n",
       "    <tr>\n",
       "      <th>29519</th>\n",
       "      <td>gas</td>\n",
       "      <td>3.65</td>\n",
       "    </tr>\n",
       "    <tr>\n",
       "      <th>29520</th>\n",
       "      <td>gas</td>\n",
       "      <td>4.77</td>\n",
       "    </tr>\n",
       "    <tr>\n",
       "      <th>29521</th>\n",
       "      <td>coal</td>\n",
       "      <td>3.06</td>\n",
       "    </tr>\n",
       "    <tr>\n",
       "      <th>29522</th>\n",
       "      <td>gas</td>\n",
       "      <td>0.00</td>\n",
       "    </tr>\n",
       "  </tbody>\n",
       "</table>\n",
       "<p>29523 rows × 2 columns</p>\n",
       "</div>"
      ],
      "text/plain": [
       "      fuel_type_code_pudl  fuel_cost_per_unit_burned\n",
       "0                    coal                      18.59\n",
       "1                    coal                      18.58\n",
       "2                    coal                      39.72\n",
       "3                    coal                      47.21\n",
       "4                     gas                       2.77\n",
       "...                   ...                        ...\n",
       "29518                 gas                       4.78\n",
       "29519                 gas                       3.65\n",
       "29520                 gas                       4.77\n",
       "29521                coal                       3.06\n",
       "29522                 gas                       0.00\n",
       "\n",
       "[29523 rows x 2 columns]"
      ]
     },
     "execution_count": 7,
     "metadata": {},
     "output_type": "execute_result"
    }
   ],
   "source": [
    "Which of the following fuel type code has the lowest average fuel cost per unit burned?\n",
    "\n",
    "csv_file.loc[:, [\"fuel_type_code_pudl\", \"fuel_cost_per_unit_burned\"]] "
   ]
  },
  {
   "cell_type": "code",
   "execution_count": 9,
   "id": "6316bfa9-ed8c-4b68-9609-bb1dc23b7c97",
   "metadata": {},
   "outputs": [
    {
     "name": "stdout",
     "output_type": "stream",
     "text": [
      "      fuel_type_code_pudl  fuel_cost_per_unit_burned\n",
      "0                    coal                      18.59\n",
      "1                    coal                      18.58\n",
      "2                    coal                      39.72\n",
      "3                    coal                      47.21\n",
      "4                     gas                       2.77\n",
      "...                   ...                        ...\n",
      "29518                 gas                       4.78\n",
      "29519                 gas                       3.65\n",
      "29520                 gas                       4.77\n",
      "29521                coal                       3.06\n",
      "29522                 gas                       0.00\n",
      "\n",
      "[29523 rows x 2 columns]\n"
     ]
    }
   ],
   "source": [
    "print(csv_file[[\"fuel_type_code_pudl\", \"fuel_cost_per_unit_burned\"]])"
   ]
  },
  {
   "cell_type": "code",
   "execution_count": 12,
   "id": "ac9ff335-a194-405e-bffb-f7a2ee4767b3",
   "metadata": {},
   "outputs": [
    {
     "data": {
      "text/html": [
       "<div>\n",
       "<style scoped>\n",
       "    .dataframe tbody tr th:only-of-type {\n",
       "        vertical-align: middle;\n",
       "    }\n",
       "\n",
       "    .dataframe tbody tr th {\n",
       "        vertical-align: top;\n",
       "    }\n",
       "\n",
       "    .dataframe thead th {\n",
       "        text-align: right;\n",
       "    }\n",
       "</style>\n",
       "<table border=\"1\" class=\"dataframe\">\n",
       "  <thead>\n",
       "    <tr style=\"text-align: right;\">\n",
       "      <th></th>\n",
       "      <th>fuel_mmbtu_per_unit</th>\n",
       "    </tr>\n",
       "  </thead>\n",
       "  <tbody>\n",
       "    <tr>\n",
       "      <th>0</th>\n",
       "      <td>16.590</td>\n",
       "    </tr>\n",
       "    <tr>\n",
       "      <th>1</th>\n",
       "      <td>16.592</td>\n",
       "    </tr>\n",
       "    <tr>\n",
       "      <th>2</th>\n",
       "      <td>24.130</td>\n",
       "    </tr>\n",
       "    <tr>\n",
       "      <th>3</th>\n",
       "      <td>23.950</td>\n",
       "    </tr>\n",
       "    <tr>\n",
       "      <th>4</th>\n",
       "      <td>1.000</td>\n",
       "    </tr>\n",
       "    <tr>\n",
       "      <th>...</th>\n",
       "      <td>...</td>\n",
       "    </tr>\n",
       "    <tr>\n",
       "      <th>29518</th>\n",
       "      <td>1.059</td>\n",
       "    </tr>\n",
       "    <tr>\n",
       "      <th>29519</th>\n",
       "      <td>1.050</td>\n",
       "    </tr>\n",
       "    <tr>\n",
       "      <th>29520</th>\n",
       "      <td>1.060</td>\n",
       "    </tr>\n",
       "    <tr>\n",
       "      <th>29521</th>\n",
       "      <td>16.108</td>\n",
       "    </tr>\n",
       "    <tr>\n",
       "      <th>29522</th>\n",
       "      <td>1.059</td>\n",
       "    </tr>\n",
       "  </tbody>\n",
       "</table>\n",
       "<p>29523 rows × 1 columns</p>\n",
       "</div>"
      ],
      "text/plain": [
       "       fuel_mmbtu_per_unit\n",
       "0                   16.590\n",
       "1                   16.592\n",
       "2                   24.130\n",
       "3                   23.950\n",
       "4                    1.000\n",
       "...                    ...\n",
       "29518                1.059\n",
       "29519                1.050\n",
       "29520                1.060\n",
       "29521               16.108\n",
       "29522                1.059\n",
       "\n",
       "[29523 rows x 1 columns]"
      ]
     },
     "execution_count": 12,
     "metadata": {},
     "output_type": "execute_result"
    }
   ],
   "source": [
    "csv_file.loc[:, [\"fuel_mmbtu_per_unit\"]]"
   ]
  },
  {
   "cell_type": "code",
   "execution_count": 14,
   "id": "9aa8a413-64b3-40d9-95ff-fa74db87db76",
   "metadata": {},
   "outputs": [
    {
     "data": {
      "text/plain": [
       "0        5.379539e+06\n",
       "1        1.048899e+07\n",
       "2        2.980783e+06\n",
       "3        3.741599e+06\n",
       "4        4.253811e+04\n",
       "             ...     \n",
       "29518    2.084865e+04\n",
       "29519    8.087753e+05\n",
       "29520    1.066036e+05\n",
       "29521    3.180100e+05\n",
       "29522    1.989574e+04\n",
       "Length: 29523, dtype: float64"
      ]
     },
     "execution_count": 14,
     "metadata": {},
     "output_type": "execute_result"
    }
   ],
   "source": [
    "csv_file.sum(axis = 1, skipna = True)"
   ]
  },
  {
   "cell_type": "code",
   "execution_count": 15,
   "id": "e1f29298-c6a2-4d93-8110-e391515cd2e1",
   "metadata": {},
   "outputs": [
    {
     "data": {
      "text/plain": [
       "record_id                       f1_fuel_1994_12_1_0_7f1_fuel_1994_12_1_0_10f1_...\n",
       "utility_id_ferc1                                                          3501482\n",
       "report_year                                                              59217412\n",
       "plant_name_ferc1                rockportrockport total plantgorgasbarrychickas...\n",
       "fuel_type_code_pudl             coalcoalcoalcoalgascoalnuclearcoalcoalcoalgasc...\n",
       "fuel_qty_burned                                                     77412830479.0\n",
       "fuel_mmbtu_per_unit                                                 250712.583261\n",
       "fuel_cost_per_unit_burned                                             6159945.343\n",
       "fuel_cost_per_unit_delivered                                         27089432.369\n",
       "fuel_cost_per_mmbtu                                                  569922.44553\n",
       "dtype: object"
      ]
     },
     "execution_count": 15,
     "metadata": {},
     "output_type": "execute_result"
    }
   ],
   "source": [
    "csv_file.sum(axis = 0, skipna = True)"
   ]
  },
  {
   "cell_type": "code",
   "execution_count": 17,
   "id": "6e12a067-f931-447e-9a68-fb8df493d9d2",
   "metadata": {},
   "outputs": [
    {
     "name": "stdout",
     "output_type": "stream",
     "text": [
      "utility_id_ferc1                7.417835e+01\n",
      "report_year                     7.025483e+00\n",
      "fuel_qty_burned                 9.118004e+06\n",
      "fuel_mmbtu_per_unit             1.060022e+01\n",
      "fuel_cost_per_unit_burned       2.854490e+03\n",
      "fuel_cost_per_unit_delivered    6.877593e+04\n",
      "fuel_cost_per_mmbtu             2.091541e+03\n",
      "dtype: float64\n"
     ]
    }
   ],
   "source": [
    "What is the standard deviation and 75th percentile of the measure of energy per unit (Fuel_mmbtu_per_unit) in two decimal places?\n",
    "\n",
    "print(csv_file.std())"
   ]
  },
  {
   "cell_type": "code",
   "execution_count": null,
   "id": "b1a101f1-71a0-469a-a063-c0e057daf5de",
   "metadata": {},
   "outputs": [],
   "source": []
  }
 ],
 "metadata": {
  "kernelspec": {
   "display_name": "Python 3",
   "language": "python",
   "name": "python3"
  },
  "language_info": {
   "codemirror_mode": {
    "name": "ipython",
    "version": 3
   },
   "file_extension": ".py",
   "mimetype": "text/x-python",
   "name": "python",
   "nbconvert_exporter": "python",
   "pygments_lexer": "ipython3",
   "version": "3.8.8"
  }
 },
 "nbformat": 4,
 "nbformat_minor": 5
}
